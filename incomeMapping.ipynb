{
 "cells": [
  {
   "cell_type": "code",
   "execution_count": 2,
   "id": "352e2f29-7365-41da-8a1f-1864d9cda29c",
   "metadata": {},
   "outputs": [],
   "source": [
    "# incomeMapping.ipynb\n",
    "# August 2022\n",
    "\n",
    "# Given census data and a list of gas meter IDs corresponding to houses, produces a mapping for each\n",
    "# meter ID to the corresponding income tract (low, medium, or high).\n",
    "\n",
    "# Original Paper Reference:\n",
    "'''\n",
    "Adam Lechowicz, Noman Bashir, John Wamburu, Mohammad Hajiesmaili, and Prashant Shenoy\n",
    "Equitable Network-Aware Decarbonization of Residential Heating at City Scale\n",
    "ACM International Conference on Future Energy Systems (e-Energy), 2023.\n",
    "'''\n",
    "\n",
    "import pandas as pd\n",
    "import math"
   ]
  },
  {
   "cell_type": "code",
   "execution_count": 3,
   "id": "ddbe09d6-f3db-45a6-afeb-55b4c56185a7",
   "metadata": {},
   "outputs": [],
   "source": [
    "# reads csv that contains a mapping from each meter ID to the corresponding census block\n",
    "df = pd.read_csv('census_data/meter-block-data.csv')"
   ]
  },
  {
   "cell_type": "code",
   "execution_count": 5,
   "id": "63c1f42b-9d88-44fb-95a8-114a363c53df",
   "metadata": {},
   "outputs": [],
   "source": [
    "# reads csv with information about each census block\n",
    "dfr = pd.read_csv('census_data/block-demographic-data.csv')"
   ]
  },
  {
   "cell_type": "code",
   "execution_count": 7,
   "id": "db03f119-9ec9-47aa-8525-01558b67693c",
   "metadata": {},
   "outputs": [
    {
     "data": {
      "text/plain": [
       "<AxesSubplot:ylabel='Frequency'>"
      ]
     },
     "execution_count": 7,
     "metadata": {},
     "output_type": "execute_result"
    },
    {
     "data": {
      "image/png": "[encoded data removed]",
      "text/plain": [
       "<Figure size 432x288 with 1 Axes>"
      ]
     },
     "metadata": {
      "needs_background": "light"
     },
     "output_type": "display_data"
    }
   ],
   "source": [
    "dfr[\"median_income\"].plot(kind=\"hist\")"
   ]
  },
  {
   "cell_type": "code",
   "execution_count": 46,
   "id": "72d2516e-5493-4758-896d-ea15b39fd07a",
   "metadata": {},
   "outputs": [],
   "source": [
    "# bucket each block into one of three income tracts (low, med, high)\n",
    "# low = 1, med = 2, high = 3\n",
    "bucketing = {}\n",
    "low = 0\n",
    "med = 0\n",
    "high = 0\n",
    "for block, income in zip(dfr[\"block_code\"], dfr[\"median_income\"]):\n",
    "    if income < 45000:\n",
    "        bucketing[block] = 1\n",
    "        low += 1\n",
    "    elif income > 80000:\n",
    "        bucketing[block] = 3\n",
    "        high += 1\n",
    "    else:\n",
    "        bucketing[block] = 2\n",
    "        med += 1"
   ]
  },
  {
   "cell_type": "code",
   "execution_count": 47,
   "id": "496ec681-d675-4d9b-ab43-1ef9544f1c62",
   "metadata": {},
   "outputs": [
    {
     "name": "stdout",
     "output_type": "stream",
     "text": [
      "43\n",
      "57\n",
      "43\n"
     ]
    }
   ],
   "source": [
    "# print out the number of blocks in each income tract\n",
    "print(low)\n",
    "print(med)\n",
    "print(high)"
   ]
  },
  {
   "cell_type": "code",
   "execution_count": null,
   "id": "6a00f23e-111f-4485-a939-249a996094f6",
   "metadata": {
    "scrolled": true,
    "tags": []
   },
   "outputs": [],
   "source": [
    "meterIDs = df[\"GASMETERID\"]\n",
    "block_codes = df[\"block_code\"]\n",
    "\n",
    "# create a dictionary that stores the block code for each meterID\n",
    "dict = {}\n",
    "for ID, code in zip(meterIDs, block_codes):\n",
    "    if math.isnan(ID):\n",
    "        continue\n",
    "    dict[int(ID)] = bucketing[code]"
   ]
  },
  {
   "cell_type": "code",
   "execution_count": 49,
   "id": "2ebdb153-8a03-45ff-a309-c50764373d59",
   "metadata": {},
   "outputs": [
    {
     "name": "stdout",
     "output_type": "stream",
     "text": [
      "3488\n",
      "3427\n",
      "3440\n"
     ]
    }
   ],
   "source": [
    "low = 0\n",
    "med = 0\n",
    "high = 0\n",
    "# print out the number of houses in each income tract\n",
    "for code in dict.values():\n",
    "    if code == 1:\n",
    "        low += 1\n",
    "    elif code == 2:\n",
    "        med += 1\n",
    "    else:\n",
    "        high +=1\n",
    "\n",
    "print(low)\n",
    "print(med)\n",
    "print(high)"
   ]
  },
  {
   "cell_type": "code",
   "execution_count": 74,
   "id": "bbb4b922-767c-4547-bbfd-49c95fbf9641",
   "metadata": {},
   "outputs": [],
   "source": [
    "import pickle\n",
    "\n",
    "# store the computed mapping in a pickle file, to be used elsewhere\n",
    "pickle.dump( dict, open( \"incomeMapping.pickle\", \"wb\" ) )"
   ]
  }
 ],
 "metadata": {
  "kernelspec": {
   "display_name": "Python 3.9.15 64-bit",
   "language": "python",
   "name": "python3"
  },
  "language_info": {
   "codemirror_mode": {
    "name": "ipython",
    "version": 3
   },
   "file_extension": ".py",
   "mimetype": "text/x-python",
   "name": "python",
   "nbconvert_exporter": "python",
   "pygments_lexer": "ipython3",
   "version": "3.9.15"
  },
  "vscode": {
   "interpreter": {
    "hash": "a665b5d41d17b532ea9890333293a1b812fa0b73c9c25c950b3cedf1bebd0438"
   }
  }
 },
 "nbformat": 4,
 "nbformat_minor": 5
}
